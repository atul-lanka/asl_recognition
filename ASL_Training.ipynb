{
  "nbformat": 4,
  "nbformat_minor": 0,
  "metadata": {
    "colab": {
      "name": "ASL_Training.ipynb",
      "provenance": [],
      "collapsed_sections": [],
      "mount_file_id": "1rZIm7unLQcdFbssNGUt69xwMFGXHgHme",
      "authorship_tag": "ABX9TyOXtSJlM6lrG5QRNh0Kbtq4",
      "include_colab_link": true
    },
    "kernelspec": {
      "display_name": "Python 3",
      "name": "python3"
    },
    "accelerator": "GPU"
  },
  "cells": [
    {
      "cell_type": "markdown",
      "metadata": {
        "id": "view-in-github",
        "colab_type": "text"
      },
      "source": [
        "<a href=\"https://colab.research.google.com/github/atul-lanka/asl_recognition/blob/main/ASL_Training.ipynb\" target=\"_parent\"><img src=\"https://colab.research.google.com/assets/colab-badge.svg\" alt=\"Open In Colab\"/></a>"
      ]
    },
    {
      "cell_type": "markdown",
      "metadata": {
        "id": "dOeeQ7MtuT27"
      },
      "source": [
        "#American Sign Language - Model Training"
      ]
    },
    {
      "cell_type": "code",
      "metadata": {
        "colab": {
          "base_uri": "https://localhost:8080/"
        },
        "id": "kSftFW9UIdJq",
        "outputId": "34da407f-e81e-4ab3-d999-e3cbd7b5caba"
      },
      "source": [
        "%tensorflow_version 2.x\n",
        "import tensorflow as tf\n",
        "device_name = tf.test.gpu_device_name()\n",
        "if device_name != '/device:GPU:0':\n",
        "  raise SystemError('GPU device not found')\n",
        "print('Found GPU at: {}'.format(device_name))"
      ],
      "execution_count": 1,
      "outputs": [
        {
          "output_type": "stream",
          "text": [
            "Found GPU at: /device:GPU:0\n"
          ],
          "name": "stdout"
        }
      ]
    },
    {
      "cell_type": "code",
      "metadata": {
        "id": "2xgVVxDYAGnZ"
      },
      "source": [
        "import tensorflow as tf\n",
        "from tensorflow import keras\n",
        "from keras.applications.vgg16 import VGG16\n",
        "from keras.applications.resnet50 import ResNet50\n",
        "from keras.applications.inception_v3 import InceptionV3\n",
        "from keras.applications.xception import Xception\n",
        "from keras.applications.mobilenet import MobileNet\n",
        "\n",
        "from keras.layers import Flatten, Dense, Input, Dropout\n",
        "from keras.models import Sequential, Model\n",
        "from keras.callbacks import ModelCheckpoint, Callback\n",
        "from keras.preprocessing.image import ImageDataGenerator\n",
        "from keras.optimizers import Adadelta, Adagrad, Adam, Adamax, Nadam\n",
        "\n",
        "import numpy as np\n",
        "import argparse\n",
        "import os\n",
        "from tensorflow.keras.preprocessing.image import ImageDataGenerator\n",
        "from tensorflow.keras import layers\n",
        "from tensorflow.keras import Model\n",
        "from tensorflow.keras.applications.inception_v3 import InceptionV3\n",
        "import matplotlib.pyplot as plt\n",
        "from tensorflow.keras.optimizers import SGD, Adam\n",
        "from datetime import datetime"
      ],
      "execution_count": 14,
      "outputs": []
    },
    {
      "cell_type": "markdown",
      "metadata": {
        "id": "JR6ybpIUuhLR"
      },
      "source": [
        "##Dataset"
      ]
    },
    {
      "cell_type": "code",
      "metadata": {
        "id": "6U-MIJlzBVr-"
      },
      "source": [
        "!unzip /content/drive/MyDrive/asl_alphabet.zip"
      ],
      "execution_count": null,
      "outputs": []
    },
    {
      "cell_type": "code",
      "metadata": {
        "id": "P1l-eMY0LpWG"
      },
      "source": [
        "training_data = '/content/asl_alphabet'"
      ],
      "execution_count": 4,
      "outputs": []
    },
    {
      "cell_type": "markdown",
      "metadata": {
        "id": "qRAZSEzmVZ2M"
      },
      "source": [
        "##Data Augmentation"
      ]
    },
    {
      "cell_type": "code",
      "metadata": {
        "colab": {
          "base_uri": "https://localhost:8080/"
        },
        "id": "mknvvdNlLzOk",
        "outputId": "f1d990a5-a22d-4c3a-ba1e-3cc7b81fbf46"
      },
      "source": [
        "IMAGE_SIZE = 200\n",
        "BATCH_SIZE = 64\n",
        "\n",
        "data_generator = ImageDataGenerator(\n",
        "    samplewise_center=True, \n",
        "    samplewise_std_normalization=True,\n",
        "    brightness_range=[0.75, 1.0],\n",
        "    zoom_range=[1.0, 1.2], rescale=1./255,\n",
        "    rotation_range=15.0,\n",
        "    width_shift_range=0.15,\n",
        "    height_shift_range=0.15,\n",
        "    validation_split = 0.2\n",
        ")\n",
        "\n",
        "train_generator = data_generator.flow_from_directory(training_data, target_size=(IMAGE_SIZE, IMAGE_SIZE), shuffle=True, seed=13,\n",
        "                                                     class_mode='categorical', batch_size=BATCH_SIZE, subset=\"training\")\n",
        "\n",
        "validation_generator = data_generator.flow_from_directory(training_data, target_size=(IMAGE_SIZE, IMAGE_SIZE), shuffle=True, seed=13,\n",
        "                                                     class_mode='categorical', batch_size=BATCH_SIZE, subset=\"validation\")"
      ],
      "execution_count": 5,
      "outputs": [
        {
          "output_type": "stream",
          "text": [
            "Found 73265 images belonging to 39 classes.\n",
            "Found 18312 images belonging to 39 classes.\n"
          ],
          "name": "stdout"
        }
      ]
    },
    {
      "cell_type": "markdown",
      "metadata": {
        "id": "pkeXj--VunQy"
      },
      "source": [
        "## Inception V3 "
      ]
    },
    {
      "cell_type": "code",
      "metadata": {
        "id": "B2_EuZNoPFwm"
      },
      "source": [
        "inception_v3_model = InceptionV3(\n",
        "    input_shape = (IMAGE_SIZE, IMAGE_SIZE, 3), \n",
        "    include_top = False, \n",
        "    weights = 'imagenet'\n",
        ")\n",
        "\n",
        "#Unfreezing specific layers to improve training\n",
        "for layer in inception_v3_model.layers[:249]:\n",
        "    layer.trainable = False\n",
        "for layer in inception_v3_model.layers[249:]:\n",
        "    layer.trainable = True"
      ],
      "execution_count": 15,
      "outputs": []
    },
    {
      "cell_type": "code",
      "metadata": {
        "id": "diB5o5_YRi5Z"
      },
      "source": [
        "inception_output = inception_v3_model.output"
      ],
      "execution_count": 16,
      "outputs": []
    },
    {
      "cell_type": "code",
      "metadata": {
        "id": "MY304zRLQpId"
      },
      "source": [
        "x = layers.GlobalAveragePooling2D()(inception_output)\n",
        "x = layers.Dense(512, activation='relu')(x)\n",
        "#x = layers.Dropout(0.2)(x)                  \n",
        "x = layers.Dense(39, activation='softmax')(x)           \n",
        "\n",
        "model = Model(inception_v3_model.input, x) \n",
        "\n",
        "model.compile(\n",
        "    optimizer=SGD(lr=0.001, momentum=0.9),\n",
        "    loss='categorical_crossentropy',\n",
        "    metrics=['acc']\n",
        ")"
      ],
      "execution_count": 17,
      "outputs": []
    },
    {
      "cell_type": "code",
      "metadata": {
        "colab": {
          "base_uri": "https://localhost:8080/"
        },
        "id": "oS8SjpL6SFbr",
        "outputId": "df66f2dc-0f9b-487d-8cb7-41e4f239f119"
      },
      "source": [
        "callback = tf.keras.callbacks.EarlyStopping(monitor = 'val_acc', patience = 5)\n",
        "\n",
        "#Record time taken for model fitting\n",
        "start=datetime.now()\n",
        "\n",
        "history = model.fit_generator(\n",
        "    train_generator,\n",
        "    validation_data=validation_generator,\n",
        "    steps_per_epoch = 100,\n",
        "    validation_steps=50,\n",
        "    epochs=50, verbose =1,\n",
        "    callbacks=[callback]\n",
        ")\n",
        "\n",
        "end=datetime.now()\n",
        "print(end-start)"
      ],
      "execution_count": 18,
      "outputs": [
        {
          "output_type": "stream",
          "text": [
            "Epoch 1/50\n",
            "100/100 [==============================] - 107s 1s/step - loss: 3.0636 - acc: 0.2362 - val_loss: 2.8022 - val_acc: 0.2309\n",
            "Epoch 2/50\n",
            "100/100 [==============================] - 105s 1s/step - loss: 1.8704 - acc: 0.5900 - val_loss: 2.0381 - val_acc: 0.4397\n",
            "Epoch 3/50\n",
            "100/100 [==============================] - 104s 1s/step - loss: 1.1542 - acc: 0.7317 - val_loss: 1.4938 - val_acc: 0.5931\n",
            "Epoch 4/50\n",
            "100/100 [==============================] - 104s 1s/step - loss: 0.8173 - acc: 0.7978 - val_loss: 1.2889 - val_acc: 0.6344\n",
            "Epoch 5/50\n",
            "100/100 [==============================] - 104s 1s/step - loss: 0.6311 - acc: 0.8433 - val_loss: 1.1027 - val_acc: 0.6884\n",
            "Epoch 6/50\n",
            "100/100 [==============================] - 103s 1s/step - loss: 0.4997 - acc: 0.8720 - val_loss: 0.9952 - val_acc: 0.7006\n",
            "Epoch 7/50\n",
            "100/100 [==============================] - 103s 1s/step - loss: 0.4234 - acc: 0.8869 - val_loss: 0.8685 - val_acc: 0.7450\n",
            "Epoch 8/50\n",
            "100/100 [==============================] - 103s 1s/step - loss: 0.3741 - acc: 0.9033 - val_loss: 0.8809 - val_acc: 0.7422\n",
            "Epoch 9/50\n",
            "100/100 [==============================] - 103s 1s/step - loss: 0.3212 - acc: 0.9156 - val_loss: 0.8735 - val_acc: 0.7422\n",
            "Epoch 10/50\n",
            "100/100 [==============================] - 103s 1s/step - loss: 0.2968 - acc: 0.9198 - val_loss: 0.8344 - val_acc: 0.7553\n",
            "Epoch 11/50\n",
            "100/100 [==============================] - 103s 1s/step - loss: 0.2786 - acc: 0.9231 - val_loss: 0.7871 - val_acc: 0.7722\n",
            "Epoch 12/50\n",
            "100/100 [==============================] - 103s 1s/step - loss: 0.2430 - acc: 0.9309 - val_loss: 0.7605 - val_acc: 0.7794\n",
            "Epoch 13/50\n",
            "100/100 [==============================] - 103s 1s/step - loss: 0.2207 - acc: 0.9402 - val_loss: 0.7738 - val_acc: 0.7688\n",
            "Epoch 14/50\n",
            "100/100 [==============================] - 103s 1s/step - loss: 0.2141 - acc: 0.9384 - val_loss: 0.7468 - val_acc: 0.7975\n",
            "Epoch 15/50\n",
            "100/100 [==============================] - 103s 1s/step - loss: 0.1912 - acc: 0.9459 - val_loss: 0.7494 - val_acc: 0.7903\n",
            "Epoch 16/50\n",
            "100/100 [==============================] - 103s 1s/step - loss: 0.1868 - acc: 0.9481 - val_loss: 0.7616 - val_acc: 0.7922\n",
            "Epoch 17/50\n",
            "100/100 [==============================] - 103s 1s/step - loss: 0.1783 - acc: 0.9484 - val_loss: 0.6935 - val_acc: 0.8022\n",
            "Epoch 18/50\n",
            "100/100 [==============================] - 103s 1s/step - loss: 0.1624 - acc: 0.9558 - val_loss: 0.7177 - val_acc: 0.7912\n",
            "Epoch 19/50\n",
            "100/100 [==============================] - 103s 1s/step - loss: 0.1590 - acc: 0.9536 - val_loss: 0.7148 - val_acc: 0.8047\n",
            "Epoch 20/50\n",
            "100/100 [==============================] - 103s 1s/step - loss: 0.1420 - acc: 0.9573 - val_loss: 0.6728 - val_acc: 0.8084\n",
            "Epoch 21/50\n",
            "100/100 [==============================] - 103s 1s/step - loss: 0.1347 - acc: 0.9600 - val_loss: 0.7505 - val_acc: 0.8091\n",
            "Epoch 22/50\n",
            "100/100 [==============================] - 104s 1s/step - loss: 0.1391 - acc: 0.9566 - val_loss: 0.7054 - val_acc: 0.8050\n",
            "Epoch 23/50\n",
            "100/100 [==============================] - 107s 1s/step - loss: 0.1193 - acc: 0.9670 - val_loss: 0.7433 - val_acc: 0.8109\n",
            "Epoch 24/50\n",
            "100/100 [==============================] - 106s 1s/step - loss: 0.1182 - acc: 0.9659 - val_loss: 0.7174 - val_acc: 0.8016\n",
            "Epoch 25/50\n",
            "100/100 [==============================] - 107s 1s/step - loss: 0.1121 - acc: 0.9695 - val_loss: 0.7151 - val_acc: 0.8009\n",
            "Epoch 26/50\n",
            "100/100 [==============================] - 110s 1s/step - loss: 0.1172 - acc: 0.9645 - val_loss: 0.7188 - val_acc: 0.8056\n",
            "Epoch 27/50\n",
            "100/100 [==============================] - 108s 1s/step - loss: 0.1103 - acc: 0.9656 - val_loss: 0.6812 - val_acc: 0.8141\n",
            "Epoch 28/50\n",
            "100/100 [==============================] - 109s 1s/step - loss: 0.0961 - acc: 0.9725 - val_loss: 0.6812 - val_acc: 0.8109\n",
            "Epoch 29/50\n",
            "100/100 [==============================] - 108s 1s/step - loss: 0.1078 - acc: 0.9683 - val_loss: 0.6801 - val_acc: 0.8234\n",
            "Epoch 30/50\n",
            "100/100 [==============================] - 108s 1s/step - loss: 0.1012 - acc: 0.9694 - val_loss: 0.7439 - val_acc: 0.8141\n",
            "Epoch 31/50\n",
            "100/100 [==============================] - 105s 1s/step - loss: 0.0929 - acc: 0.9712 - val_loss: 0.7199 - val_acc: 0.8200\n",
            "Epoch 32/50\n",
            "100/100 [==============================] - 105s 1s/step - loss: 0.0953 - acc: 0.9723 - val_loss: 0.6027 - val_acc: 0.8372\n",
            "Epoch 33/50\n",
            "100/100 [==============================] - 107s 1s/step - loss: 0.0945 - acc: 0.9683 - val_loss: 0.6888 - val_acc: 0.8184\n",
            "Epoch 34/50\n",
            "100/100 [==============================] - 106s 1s/step - loss: 0.0828 - acc: 0.9759 - val_loss: 0.7386 - val_acc: 0.8097\n",
            "Epoch 35/50\n",
            "100/100 [==============================] - 107s 1s/step - loss: 0.0774 - acc: 0.9777 - val_loss: 0.7734 - val_acc: 0.8006\n",
            "Epoch 36/50\n",
            "100/100 [==============================] - 107s 1s/step - loss: 0.0732 - acc: 0.9794 - val_loss: 0.6894 - val_acc: 0.8191\n",
            "Epoch 37/50\n",
            "100/100 [==============================] - 106s 1s/step - loss: 0.0798 - acc: 0.9759 - val_loss: 0.7341 - val_acc: 0.8231\n",
            "1:05:19.554162\n"
          ],
          "name": "stdout"
        }
      ]
    },
    {
      "cell_type": "markdown",
      "metadata": {
        "id": "C_cpSHv0hfud"
      },
      "source": [
        "##Plotting Results"
      ]
    },
    {
      "cell_type": "code",
      "metadata": {
        "colab": {
          "base_uri": "https://localhost:8080/",
          "height": 298
        },
        "id": "QYePk8RV-Mw5",
        "outputId": "712702dd-8027-4209-b3d9-a0bdaaca26ba"
      },
      "source": [
        "acc = history.history['acc']\n",
        "val_acc = history.history['val_acc']\n",
        "loss = history.history['loss']\n",
        "val_loss = history.history['val_loss']\n",
        "\n",
        "epochs = range(len(acc))\n",
        "\n",
        "plt.plot(epochs, acc, 'r', label='Training Accuracy')\n",
        "plt.plot(epochs, val_acc, 'b', label='Validation Accuracy')\n",
        "plt.title('Training and Validation Accuracy for InceptionV3')\n",
        "plt.legend(loc=0)\n",
        "plt.figure()\n",
        "\n",
        "\n",
        "plt.show()"
      ],
      "execution_count": 19,
      "outputs": [
        {
          "output_type": "display_data",
          "data": {
            "image/png": "[encoded data removed]",
            "text/plain": [
              "<Figure size 432x288 with 1 Axes>"
            ]
          },
          "metadata": {
            "tags": [],
            "needs_background": "light"
          }
        },
        {
          "output_type": "display_data",
          "data": {
            "text/plain": [
              "<Figure size 432x288 with 0 Axes>"
            ]
          },
          "metadata": {
            "tags": []
          }
        }
      ]
    },
    {
      "cell_type": "code",
      "metadata": {
        "colab": {
          "base_uri": "https://localhost:8080/",
          "height": 315
        },
        "id": "oZMMO1St-TwH",
        "outputId": "20787177-9f95-401e-9a25-de1af150927b"
      },
      "source": [
        "plt.plot(epochs, loss, 'r', label='Training Loss')\n",
        "plt.plot(epochs, val_loss, 'b', label='Validation Loss')\n",
        "plt.title('Training and Validation Loss for InceptionV3')\n",
        "plt.legend(loc=0)\n",
        "plt.figure()"
      ],
      "execution_count": 20,
      "outputs": [
        {
          "output_type": "execute_result",
          "data": {
            "text/plain": [
              "<Figure size 432x288 with 0 Axes>"
            ]
          },
          "metadata": {
            "tags": []
          },
          "execution_count": 20
        },
        {
          "output_type": "display_data",
          "data": {
            "image/png": "[encoded data removed]",
            "text/plain": [
              "<Figure size 432x288 with 1 Axes>"
            ]
          },
          "metadata": {
            "tags": [],
            "needs_background": "light"
          }
        },
        {
          "output_type": "display_data",
          "data": {
            "text/plain": [
              "<Figure size 432x288 with 0 Axes>"
            ]
          },
          "metadata": {
            "tags": []
          }
        }
      ]
    },
    {
      "cell_type": "markdown",
      "metadata": {
        "id": "NnIjgR-8hq-q"
      },
      "source": [
        "##Saving Model"
      ]
    },
    {
      "cell_type": "code",
      "metadata": {
        "id": "WMIxcBWUARlD"
      },
      "source": [
        "MODEL_NAME = '/content/ASL_inceptionv3.h5'\n",
        "model.save(MODEL_NAME)"
      ],
      "execution_count": 21,
      "outputs": []
    },
    {
      "cell_type": "markdown",
      "metadata": {
        "id": "u6eN6bjEuvRX"
      },
      "source": [
        "## VGG-16"
      ]
    },
    {
      "cell_type": "code",
      "metadata": {
        "id": "evWDSZuhAkow",
        "colab": {
          "base_uri": "https://localhost:8080/"
        },
        "outputId": "12bb90eb-61d9-40e6-a33a-e7a57d397a6a"
      },
      "source": [
        "vgg16_model = VGG16(\n",
        "    input_shape = (IMAGE_SIZE, IMAGE_SIZE, 3), \n",
        "    include_top = False, \n",
        "    weights = 'imagenet'\n",
        ")\n",
        "\n",
        "for layer in vgg16_model.layers[:11]:\n",
        "    layer.trainable = False\n",
        "for layer in vgg16_model.layers[11:]:\n",
        "    layer.trainable = True"
      ],
      "execution_count": 22,
      "outputs": [
        {
          "output_type": "stream",
          "text": [
            "Downloading data from https://storage.googleapis.com/tensorflow/keras-applications/vgg16/vgg16_weights_tf_dim_ordering_tf_kernels_notop.h5\n",
            "58892288/58889256 [==============================] - 0s 0us/step\n"
          ],
          "name": "stdout"
        }
      ]
    },
    {
      "cell_type": "code",
      "metadata": {
        "id": "_p8QXZEMzAao"
      },
      "source": [
        "vgg_output = vgg16_model.output"
      ],
      "execution_count": 23,
      "outputs": []
    },
    {
      "cell_type": "code",
      "metadata": {
        "id": "iB74sawJ_SDZ"
      },
      "source": [
        "x1 = layers.GlobalAveragePooling2D()(vgg_output)\n",
        "x1 = layers.Dense(512, activation='relu')(x1)\n",
        "x1 = layers.Dropout(0.2)(x1)                  \n",
        "x1 = layers.Dense(39, activation='softmax')(x1)           \n",
        "\n",
        "model1 = Model(vgg16_model.input, x1) \n",
        "\n",
        "model1.compile(\n",
        "    optimizer=SGD(lr=0.001, momentum=0.9),\n",
        "    loss='categorical_crossentropy',\n",
        "    metrics=['acc']\n",
        ")"
      ],
      "execution_count": 24,
      "outputs": []
    },
    {
      "cell_type": "code",
      "metadata": {
        "colab": {
          "base_uri": "https://localhost:8080/"
        },
        "id": "HX3eis2a_l0R",
        "outputId": "5e539fb6-8865-46b2-ff61-f2f5ca43b98d"
      },
      "source": [
        "callback = tf.keras.callbacks.EarlyStopping(monitor = 'val_acc', patience = 5)\n",
        "\n",
        "start=datetime.now()\n",
        "\n",
        "history = model1.fit_generator(\n",
        "    train_generator,\n",
        "    validation_data=validation_generator,\n",
        "    steps_per_epoch = 100,\n",
        "    validation_steps=50,\n",
        "    epochs=50, verbose =1,\n",
        "    callbacks=[callback])\n",
        "\n",
        "end=datetime.now()\n",
        "print(end-start)"
      ],
      "execution_count": 25,
      "outputs": [
        {
          "output_type": "stream",
          "text": [
            "Epoch 1/50\n",
            "100/100 [==============================] - 118s 1s/step - loss: 3.1529 - acc: 0.1567 - val_loss: 1.8759 - val_acc: 0.5019\n",
            "Epoch 2/50\n",
            "100/100 [==============================] - 115s 1s/step - loss: 0.8925 - acc: 0.7391 - val_loss: 0.5718 - val_acc: 0.8537\n",
            "Epoch 3/50\n",
            "100/100 [==============================] - 117s 1s/step - loss: 0.3494 - acc: 0.8947 - val_loss: 0.3109 - val_acc: 0.9169\n",
            "Epoch 4/50\n",
            "100/100 [==============================] - 115s 1s/step - loss: 0.2409 - acc: 0.9277 - val_loss: 0.2672 - val_acc: 0.9181\n",
            "Epoch 5/50\n",
            "100/100 [==============================] - 115s 1s/step - loss: 0.1944 - acc: 0.9411 - val_loss: 0.2589 - val_acc: 0.9278\n",
            "Epoch 6/50\n",
            "100/100 [==============================] - 115s 1s/step - loss: 0.1142 - acc: 0.9666 - val_loss: 0.2995 - val_acc: 0.9022\n",
            "Epoch 7/50\n",
            "100/100 [==============================] - 115s 1s/step - loss: 0.1023 - acc: 0.9722 - val_loss: 0.1970 - val_acc: 0.9394\n",
            "Epoch 8/50\n",
            "100/100 [==============================] - 116s 1s/step - loss: 0.0880 - acc: 0.9731 - val_loss: 0.2173 - val_acc: 0.9278\n",
            "Epoch 9/50\n",
            "100/100 [==============================] - 115s 1s/step - loss: 0.0869 - acc: 0.9734 - val_loss: 0.1456 - val_acc: 0.9581\n",
            "Epoch 10/50\n",
            "100/100 [==============================] - 115s 1s/step - loss: 0.0654 - acc: 0.9808 - val_loss: 0.1501 - val_acc: 0.9544\n",
            "Epoch 11/50\n",
            "100/100 [==============================] - 116s 1s/step - loss: 0.0705 - acc: 0.9786 - val_loss: 0.1658 - val_acc: 0.9528\n",
            "Epoch 12/50\n",
            "100/100 [==============================] - 115s 1s/step - loss: 0.0547 - acc: 0.9842 - val_loss: 0.1733 - val_acc: 0.9466\n",
            "Epoch 13/50\n",
            "100/100 [==============================] - 116s 1s/step - loss: 0.0453 - acc: 0.9852 - val_loss: 0.1626 - val_acc: 0.9484\n",
            "Epoch 14/50\n",
            "100/100 [==============================] - 115s 1s/step - loss: 0.0549 - acc: 0.9842 - val_loss: 0.1471 - val_acc: 0.9525\n",
            "0:27:15.993070\n"
          ],
          "name": "stdout"
        }
      ]
    },
    {
      "cell_type": "code",
      "metadata": {
        "colab": {
          "base_uri": "https://localhost:8080/",
          "height": 298
        },
        "id": "oV6si-DPcpVl",
        "outputId": "d5154197-9f80-423c-d3b7-ea1c5acd5e22"
      },
      "source": [
        "acc = history.history['acc']\n",
        "val_acc = history.history['val_acc']\n",
        "loss = history.history['loss']\n",
        "val_loss = history.history['val_loss']\n",
        "\n",
        "epochs = range(len(acc))\n",
        "\n",
        "plt.plot(epochs, acc, 'r', label='Training Accuracy')\n",
        "plt.plot(epochs, val_acc, 'b', label='Validation Accuracy')\n",
        "plt.title('Training and Validation Accuracy for VGG-16')\n",
        "plt.legend(loc=0)\n",
        "plt.figure()\n",
        "\n",
        "\n",
        "plt.show()"
      ],
      "execution_count": 26,
      "outputs": [
        {
          "output_type": "display_data",
          "data": {
            "image/png": "[encoded data removed]",
            "text/plain": [
              "<Figure size 432x288 with 1 Axes>"
            ]
          },
          "metadata": {
            "tags": [],
            "needs_background": "light"
          }
        },
        {
          "output_type": "display_data",
          "data": {
            "text/plain": [
              "<Figure size 432x288 with 0 Axes>"
            ]
          },
          "metadata": {
            "tags": []
          }
        }
      ]
    },
    {
      "cell_type": "code",
      "metadata": {
        "colab": {
          "base_uri": "https://localhost:8080/",
          "height": 315
        },
        "id": "7Yv0QRXttzxR",
        "outputId": "83270454-9919-4dac-c947-276092986e04"
      },
      "source": [
        "plt.plot(epochs, loss, 'r', label='Training Loss')\n",
        "plt.plot(epochs, val_loss, 'b', label='Validation Loss')\n",
        "plt.title('Training and Validation Loss for VGG-16')\n",
        "plt.legend(loc=0)\n",
        "plt.figure()"
      ],
      "execution_count": 27,
      "outputs": [
        {
          "output_type": "execute_result",
          "data": {
            "text/plain": [
              "<Figure size 432x288 with 0 Axes>"
            ]
          },
          "metadata": {
            "tags": []
          },
          "execution_count": 27
        },
        {
          "output_type": "display_data",
          "data": {
            "image/png": "[encoded data removed]",
            "text/plain": [
              "<Figure size 432x288 with 1 Axes>"
            ]
          },
          "metadata": {
            "tags": [],
            "needs_background": "light"
          }
        },
        {
          "output_type": "display_data",
          "data": {
            "text/plain": [
              "<Figure size 432x288 with 0 Axes>"
            ]
          },
          "metadata": {
            "tags": []
          }
        }
      ]
    },
    {
      "cell_type": "code",
      "metadata": {
        "id": "ECkiwSZ4t3IF"
      },
      "source": [
        "MODEL_NAME = '/content/ASL_vgg16.h5'\n",
        "model1.save(MODEL_NAME)"
      ],
      "execution_count": 28,
      "outputs": []
    },
    {
      "cell_type": "markdown",
      "metadata": {
        "id": "kXFJ3sd_u0hw"
      },
      "source": [
        "## ResNet-50"
      ]
    },
    {
      "cell_type": "code",
      "metadata": {
        "id": "cpWHQCqL-nTS",
        "colab": {
          "base_uri": "https://localhost:8080/"
        },
        "outputId": "973a95a0-cf59-4710-a0b5-dd0a49ee49ab"
      },
      "source": [
        "resnet50_model = ResNet50(\n",
        "    input_shape = (IMAGE_SIZE, IMAGE_SIZE, 3), \n",
        "    include_top = False, \n",
        "    weights = 'imagenet'\n",
        ")\n",
        "\n",
        "for layer in resnet50_model.layers[:-98]:\n",
        "    layer.trainable = False\n",
        "for layer in resnet50_model.layers[-98:]:\n",
        "    layer.trainable = True"
      ],
      "execution_count": 29,
      "outputs": [
        {
          "output_type": "stream",
          "text": [
            "Downloading data from https://storage.googleapis.com/tensorflow/keras-applications/resnet/resnet50_weights_tf_dim_ordering_tf_kernels_notop.h5\n",
            "94773248/94765736 [==============================] - 1s 0us/step\n"
          ],
          "name": "stdout"
        }
      ]
    },
    {
      "cell_type": "code",
      "metadata": {
        "id": "0yv6LnQy-398"
      },
      "source": [
        "resnet50_output = resnet50_model.output"
      ],
      "execution_count": 30,
      "outputs": []
    },
    {
      "cell_type": "code",
      "metadata": {
        "id": "pq66nNYS-7Hg"
      },
      "source": [
        "x2 = layers.GlobalAveragePooling2D()(resnet50_output)\n",
        "x2 = layers.Dense(512, activation='relu')(x2)\n",
        "x2 = layers.Dropout(0.2)(x2)                  \n",
        "x2 = layers.Dense(39, activation='softmax')(x2)           \n",
        "\n",
        "model2 = Model(resnet50_model.input, x2) \n",
        "\n",
        "model2.compile(\n",
        "    optimizer=SGD(lr=0.001, momentum=0.9),\n",
        "    loss='categorical_crossentropy',\n",
        "    metrics=['acc']\n",
        ")"
      ],
      "execution_count": 31,
      "outputs": []
    },
    {
      "cell_type": "code",
      "metadata": {
        "colab": {
          "base_uri": "https://localhost:8080/"
        },
        "id": "xt3iFs8cAN9Q",
        "outputId": "5a03a4f7-96df-475b-8fb2-6f2d4a11c0d8"
      },
      "source": [
        "callback = tf.keras.callbacks.EarlyStopping(monitor = 'val_acc', patience = 5)\n",
        "\n",
        "start=datetime.now()\n",
        "\n",
        "history = model2.fit_generator(\n",
        "    train_generator,\n",
        "    validation_data=validation_generator,\n",
        "    steps_per_epoch = 100,\n",
        "    validation_steps=50,\n",
        "    epochs=50, verbose =1,\n",
        "    callbacks=[callback])\n",
        "\n",
        "end=datetime.now()\n",
        "print(end-start)"
      ],
      "execution_count": 32,
      "outputs": [
        {
          "output_type": "stream",
          "text": [
            "Epoch 1/50\n",
            "100/100 [==============================] - 117s 1s/step - loss: 2.8667 - acc: 0.2583 - val_loss: 3.0429 - val_acc: 0.1669\n",
            "Epoch 2/50\n",
            "100/100 [==============================] - 118s 1s/step - loss: 1.2314 - acc: 0.6758 - val_loss: 1.8777 - val_acc: 0.4556\n",
            "Epoch 3/50\n",
            "100/100 [==============================] - 117s 1s/step - loss: 0.6421 - acc: 0.8197 - val_loss: 1.1354 - val_acc: 0.6891\n",
            "Epoch 4/50\n",
            "100/100 [==============================] - 116s 1s/step - loss: 0.4315 - acc: 0.8736 - val_loss: 0.8826 - val_acc: 0.7394\n",
            "Epoch 5/50\n",
            "100/100 [==============================] - 117s 1s/step - loss: 0.3099 - acc: 0.9087 - val_loss: 0.6979 - val_acc: 0.7866\n",
            "Epoch 6/50\n",
            "100/100 [==============================] - 116s 1s/step - loss: 0.2520 - acc: 0.9280 - val_loss: 0.6801 - val_acc: 0.7944\n",
            "Epoch 7/50\n",
            "100/100 [==============================] - 116s 1s/step - loss: 0.1979 - acc: 0.9409 - val_loss: 0.6803 - val_acc: 0.8222\n",
            "Epoch 8/50\n",
            "100/100 [==============================] - 116s 1s/step - loss: 0.1621 - acc: 0.9530 - val_loss: 0.6247 - val_acc: 0.8334\n",
            "Epoch 9/50\n",
            "100/100 [==============================] - 119s 1s/step - loss: 0.1395 - acc: 0.9572 - val_loss: 0.6335 - val_acc: 0.8331\n",
            "Epoch 10/50\n",
            "100/100 [==============================] - 124s 1s/step - loss: 0.1276 - acc: 0.9630 - val_loss: 0.6096 - val_acc: 0.8453\n",
            "Epoch 11/50\n",
            "100/100 [==============================] - 126s 1s/step - loss: 0.1139 - acc: 0.9643 - val_loss: 0.6126 - val_acc: 0.8378\n",
            "Epoch 12/50\n",
            "100/100 [==============================] - 127s 1s/step - loss: 0.0973 - acc: 0.9715 - val_loss: 0.6285 - val_acc: 0.8356\n",
            "Epoch 13/50\n",
            "100/100 [==============================] - 128s 1s/step - loss: 0.0924 - acc: 0.9723 - val_loss: 0.6568 - val_acc: 0.8303\n",
            "Epoch 14/50\n",
            "100/100 [==============================] - 128s 1s/step - loss: 0.0913 - acc: 0.9720 - val_loss: 0.5212 - val_acc: 0.8631\n",
            "Epoch 15/50\n",
            "100/100 [==============================] - 128s 1s/step - loss: 0.0728 - acc: 0.9784 - val_loss: 0.5393 - val_acc: 0.8600\n",
            "Epoch 16/50\n",
            "100/100 [==============================] - 128s 1s/step - loss: 0.0609 - acc: 0.9827 - val_loss: 0.6244 - val_acc: 0.8497\n",
            "Epoch 17/50\n",
            "100/100 [==============================] - 129s 1s/step - loss: 0.0553 - acc: 0.9823 - val_loss: 0.6135 - val_acc: 0.8566\n",
            "Epoch 18/50\n",
            "100/100 [==============================] - 128s 1s/step - loss: 0.0553 - acc: 0.9830 - val_loss: 0.6204 - val_acc: 0.8541\n",
            "Epoch 19/50\n",
            "100/100 [==============================] - 129s 1s/step - loss: 0.0538 - acc: 0.9844 - val_loss: 0.5475 - val_acc: 0.8609\n",
            "0:39:12.656750\n"
          ],
          "name": "stdout"
        }
      ]
    },
    {
      "cell_type": "code",
      "metadata": {
        "colab": {
          "base_uri": "https://localhost:8080/",
          "height": 298
        },
        "id": "JjG_YJgWCS8u",
        "outputId": "b4e374ba-eae7-4f10-f302-47052ea51ece"
      },
      "source": [
        "acc = history.history['acc']\n",
        "val_acc = history.history['val_acc']\n",
        "loss = history.history['loss']\n",
        "val_loss = history.history['val_loss']\n",
        "\n",
        "epochs = range(len(acc))\n",
        "\n",
        "plt.plot(epochs, acc, 'r', label='Training Accuracy')\n",
        "plt.plot(epochs, val_acc, 'b', label='Validation Accuracy')\n",
        "plt.title('Training and Validation Accuracy for ResNet-50')\n",
        "plt.legend(loc=0)\n",
        "plt.figure()\n",
        "\n",
        "\n",
        "plt.show()"
      ],
      "execution_count": 33,
      "outputs": [
        {
          "output_type": "display_data",
          "data": {
            "image/png": "[encoded data removed]",
            "text/plain": [
              "<Figure size 432x288 with 1 Axes>"
            ]
          },
          "metadata": {
            "tags": [],
            "needs_background": "light"
          }
        },
        {
          "output_type": "display_data",
          "data": {
            "text/plain": [
              "<Figure size 432x288 with 0 Axes>"
            ]
          },
          "metadata": {
            "tags": []
          }
        }
      ]
    },
    {
      "cell_type": "code",
      "metadata": {
        "colab": {
          "base_uri": "https://localhost:8080/",
          "height": 315
        },
        "id": "PjE9GSjJObbv",
        "outputId": "4bb7c9f4-d6ba-496d-c3f6-3c2b94bde969"
      },
      "source": [
        "plt.plot(epochs, loss, 'r', label='Training Loss')\n",
        "plt.plot(epochs, val_loss, 'b', label='Validation Loss')\n",
        "plt.title('Training and Validation Loss for ResNet-50')\n",
        "plt.legend(loc=0)\n",
        "plt.figure()"
      ],
      "execution_count": 34,
      "outputs": [
        {
          "output_type": "execute_result",
          "data": {
            "text/plain": [
              "<Figure size 432x288 with 0 Axes>"
            ]
          },
          "metadata": {
            "tags": []
          },
          "execution_count": 34
        },
        {
          "output_type": "display_data",
          "data": {
            "image/png": "[encoded data removed]",
            "text/plain": [
              "<Figure size 432x288 with 1 Axes>"
            ]
          },
          "metadata": {
            "tags": [],
            "needs_background": "light"
          }
        },
        {
          "output_type": "display_data",
          "data": {
            "text/plain": [
              "<Figure size 432x288 with 0 Axes>"
            ]
          },
          "metadata": {
            "tags": []
          }
        }
      ]
    },
    {
      "cell_type": "code",
      "metadata": {
        "id": "hwfQYkKbOiRs"
      },
      "source": [
        "MODEL_NAME = '/content/ASL_resnet50.h5'\n",
        "model2.save(MODEL_NAME)"
      ],
      "execution_count": 35,
      "outputs": []
    }
  ]
}