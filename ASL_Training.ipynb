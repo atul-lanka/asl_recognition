{
  "nbformat": 4,
  "nbformat_minor": 0,
  "metadata": {
    "colab": {
      "name": "ASL_Training.ipynb",
      "provenance": [],
      "collapsed_sections": [],
      "authorship_tag": "ABX9TyNon+OgamuKenKogPwtMkxo",
      "include_colab_link": true
    },
    "kernelspec": {
      "display_name": "Python 3",
      "name": "python3"
    },
    "accelerator": "GPU"
  },
  "cells": [
    {
      "cell_type": "markdown",
      "metadata": {
        "id": "view-in-github",
        "colab_type": "text"
      },
      "source": [
        "<a href=\"https://colab.research.google.com/github/atul-lanka/asl_recognition/blob/main/ASL_Training.ipynb\" target=\"_parent\"><img src=\"https://colab.research.google.com/assets/colab-badge.svg\" alt=\"Open In Colab\"/></a>"
      ]
    },
    {
      "cell_type": "markdown",
      "metadata": {
        "id": "dOeeQ7MtuT27"
      },
      "source": [
        "#American Sign Language - Model Training"
      ]
    },
    {
      "cell_type": "code",
      "metadata": {
        "colab": {
          "base_uri": "https://localhost:8080/"
        },
        "id": "kSftFW9UIdJq",
        "outputId": "606799f6-80e9-41f0-b50a-48f4b7474d21"
      },
      "source": [
        "%tensorflow_version 2.x\n",
        "import tensorflow as tf\n",
        "device_name = tf.test.gpu_device_name()\n",
        "if device_name != '/device:GPU:0':\n",
        "  raise SystemError('GPU device not found')\n",
        "print('Found GPU at: {}'.format(device_name))"
      ],
      "execution_count": null,
      "outputs": [
        {
          "output_type": "stream",
          "text": [
            "Found GPU at: /device:GPU:0\n"
          ],
          "name": "stdout"
        }
      ]
    },
    {
      "cell_type": "code",
      "metadata": {
        "id": "2xgVVxDYAGnZ"
      },
      "source": [
        "import tensorflow as tf\n",
        "from tensorflow import keras\n",
        "from keras.applications.vgg16 import VGG16\n",
        "from keras.applications.resnet50 import ResNet50\n",
        "from keras.applications.inception_v3 import InceptionV3\n",
        "from keras.applications.xception import Xception\n",
        "from keras.applications.mobilenet import MobileNet\n",
        "\n",
        "from keras.layers import Flatten, Dense, Input, Dropout\n",
        "from keras.models import Sequential, Model\n",
        "from keras.callbacks import ModelCheckpoint, Callback\n",
        "from keras.preprocessing.image import ImageDataGenerator\n",
        "from keras.optimizers import Adadelta, Adagrad, Adam, Adamax, Nadam\n",
        "\n",
        "import numpy as np\n",
        "import argparse\n",
        "import os"
      ],
      "execution_count": null,
      "outputs": []
    },
    {
      "cell_type": "markdown",
      "metadata": {
        "id": "JR6ybpIUuhLR"
      },
      "source": [
        "##Dataset"
      ]
    },
    {
      "cell_type": "code",
      "metadata": {
        "id": "6U-MIJlzBVr-"
      },
      "source": [
        "!unzip asl_alphabet.zip"
      ],
      "execution_count": null,
      "outputs": []
    },
    {
      "cell_type": "code",
      "metadata": {
        "id": "P1l-eMY0LpWG"
      },
      "source": [
        "training_data = '/content/asl_alphabet_train'"
      ],
      "execution_count": null,
      "outputs": []
    },
    {
      "cell_type": "code",
      "metadata": {
        "colab": {
          "base_uri": "https://localhost:8080/"
        },
        "id": "mknvvdNlLzOk",
        "outputId": "bc09d9c3-988c-4234-d751-b532194e253a"
      },
      "source": [
        "\n",
        "from tensorflow.keras.preprocessing.image import ImageDataGenerator\n",
        "\n",
        "IMAGE_SIZE = 200\n",
        "BATCH_SIZE = 64\n",
        "\n",
        "data_generator = ImageDataGenerator(\n",
        "    samplewise_center=True, \n",
        "    samplewise_std_normalization=True,\n",
        "    brightness_range=[0.8, 1.0],\n",
        "    zoom_range=[1.0, 1.2], rescale=1./255,\n",
        "    rotation_range=15.0,\n",
        "    width_shift_range=0.15,\n",
        "    height_shift_range=0.15,\n",
        "    validation_split = 0.2\n",
        ")\n",
        "\n",
        "train_generator = data_generator.flow_from_directory(training_data, target_size=(IMAGE_SIZE, IMAGE_SIZE), shuffle=True, seed=13,\n",
        "                                                     class_mode='categorical', batch_size=BATCH_SIZE, subset=\"training\")\n",
        "\n",
        "validation_generator = data_generator.flow_from_directory(training_data, target_size=(IMAGE_SIZE, IMAGE_SIZE), shuffle=True, seed=13,\n",
        "                                                     class_mode='categorical', batch_size=BATCH_SIZE, subset=\"validation\")"
      ],
      "execution_count": null,
      "outputs": [
        {
          "output_type": "stream",
          "text": [
            "Found 71612 images belonging to 39 classes.\n",
            "Found 17903 images belonging to 39 classes.\n"
          ],
          "name": "stdout"
        }
      ]
    },
    {
      "cell_type": "markdown",
      "metadata": {
        "id": "pkeXj--VunQy"
      },
      "source": [
        "## Inception V3 "
      ]
    },
    {
      "cell_type": "code",
      "metadata": {
        "id": "CSxhCJCQNEMm"
      },
      "source": [
        "from tensorflow.keras import layers\n",
        "from tensorflow.keras import Model\n",
        "\n",
        "from tensorflow.keras.applications.inception_v3 import InceptionV3\n"
      ],
      "execution_count": null,
      "outputs": []
    },
    {
      "cell_type": "code",
      "metadata": {
        "id": "B2_EuZNoPFwm"
      },
      "source": [
        "inception_v3_model = InceptionV3(\n",
        "    input_shape = (IMAGE_SIZE, IMAGE_SIZE, 3), \n",
        "    include_top = False, \n",
        "    weights = 'imagenet'\n",
        ")\n",
        "\n",
        "for layer in inception_v3_model.layers[:249]:\n",
        "    layer.trainable = False\n",
        "for layer in inception_v3_model.layers[249:]:\n",
        "    layer.trainable = True"
      ],
      "execution_count": null,
      "outputs": []
    },
    {
      "cell_type": "code",
      "metadata": {
        "id": "diB5o5_YRi5Z"
      },
      "source": [
        "inception_output = inception_v3_model.output"
      ],
      "execution_count": null,
      "outputs": []
    },
    {
      "cell_type": "code",
      "metadata": {
        "id": "MY304zRLQpId"
      },
      "source": [
        "from tensorflow.keras.optimizers import SGD, Adam\n",
        "\n",
        "x = layers.GlobalAveragePooling2D()(inception_output)\n",
        "x = layers.Dense(1024, activation='relu')(x)\n",
        "#x = layers.Dropout(0.2)(x)                  \n",
        "x = layers.Dense(39, activation='softmax')(x)           \n",
        "\n",
        "model = Model(inception_v3_model.input, x) \n",
        "\n",
        "model.compile(\n",
        "    optimizer=SGD(lr=0.001, momentum=0.9),\n",
        "    loss='categorical_crossentropy',\n",
        "    metrics=['acc']\n",
        ")"
      ],
      "execution_count": null,
      "outputs": []
    },
    {
      "cell_type": "code",
      "metadata": {
        "colab": {
          "base_uri": "https://localhost:8080/"
        },
        "id": "oS8SjpL6SFbr",
        "outputId": "d09d6f9f-e6b6-4540-cd4b-22546e9c7eac"
      },
      "source": [
        "callback = tf.keras.callbacks.EarlyStopping(monitor = 'val_acc', patience = 5)\n",
        "\n",
        "history = model.fit_generator(\n",
        "    train_generator,\n",
        "    validation_data=validation_generator,\n",
        "    steps_per_epoch = 100,\n",
        "    validation_steps=50,\n",
        "    epochs=50, verbose =1,\n",
        "    callbacks=[callback]\n",
        ")"
      ],
      "execution_count": null,
      "outputs": [
        {
          "output_type": "stream",
          "text": [
            "Epoch 1/50\n",
            "100/100 [==============================] - 105s 1s/step - loss: 3.0618 - acc: 0.2502 - val_loss: 2.8253 - val_acc: 0.2375\n",
            "Epoch 2/50\n",
            "100/100 [==============================] - 103s 1s/step - loss: 1.8713 - acc: 0.5953 - val_loss: 2.0813 - val_acc: 0.4419\n",
            "Epoch 3/50\n",
            "100/100 [==============================] - 103s 1s/step - loss: 1.1364 - acc: 0.7353 - val_loss: 1.5731 - val_acc: 0.5794\n",
            "Epoch 4/50\n",
            "100/100 [==============================] - 102s 1s/step - loss: 0.7812 - acc: 0.8167 - val_loss: 1.2267 - val_acc: 0.6625\n",
            "Epoch 5/50\n",
            "100/100 [==============================] - 102s 1s/step - loss: 0.5903 - acc: 0.8548 - val_loss: 1.0976 - val_acc: 0.6819\n",
            "Epoch 6/50\n",
            "100/100 [==============================] - 103s 1s/step - loss: 0.4887 - acc: 0.8791 - val_loss: 0.9866 - val_acc: 0.7122\n",
            "Epoch 7/50\n",
            "100/100 [==============================] - 103s 1s/step - loss: 0.3965 - acc: 0.8955 - val_loss: 0.9351 - val_acc: 0.7203\n",
            "Epoch 8/50\n",
            "100/100 [==============================] - 103s 1s/step - loss: 0.3498 - acc: 0.9066 - val_loss: 0.8517 - val_acc: 0.7588\n",
            "Epoch 9/50\n",
            "100/100 [==============================] - 103s 1s/step - loss: 0.3128 - acc: 0.9189 - val_loss: 0.7746 - val_acc: 0.7697\n",
            "Epoch 10/50\n",
            "100/100 [==============================] - 104s 1s/step - loss: 0.2777 - acc: 0.9236 - val_loss: 0.8022 - val_acc: 0.7663\n",
            "Epoch 11/50\n",
            "100/100 [==============================] - 104s 1s/step - loss: 0.2569 - acc: 0.9319 - val_loss: 0.7928 - val_acc: 0.7756\n",
            "Epoch 12/50\n",
            "100/100 [==============================] - 104s 1s/step - loss: 0.2230 - acc: 0.9386 - val_loss: 0.7465 - val_acc: 0.7887\n",
            "Epoch 13/50\n",
            "100/100 [==============================] - 104s 1s/step - loss: 0.2132 - acc: 0.9396 - val_loss: 0.7121 - val_acc: 0.7984\n",
            "Epoch 14/50\n",
            "100/100 [==============================] - 104s 1s/step - loss: 0.1834 - acc: 0.9505 - val_loss: 0.6857 - val_acc: 0.8041\n",
            "Epoch 15/50\n",
            "100/100 [==============================] - 104s 1s/step - loss: 0.1793 - acc: 0.9509 - val_loss: 0.6773 - val_acc: 0.7941\n",
            "Epoch 16/50\n",
            "100/100 [==============================] - 103s 1s/step - loss: 0.1531 - acc: 0.9614 - val_loss: 0.6509 - val_acc: 0.8078\n",
            "Epoch 17/50\n",
            "100/100 [==============================] - 103s 1s/step - loss: 0.1583 - acc: 0.9567 - val_loss: 0.6822 - val_acc: 0.8016\n",
            "Epoch 18/50\n",
            "100/100 [==============================] - 103s 1s/step - loss: 0.1479 - acc: 0.9595 - val_loss: 0.6551 - val_acc: 0.8075\n",
            "Epoch 19/50\n",
            "100/100 [==============================] - 103s 1s/step - loss: 0.1273 - acc: 0.9647 - val_loss: 0.6310 - val_acc: 0.8153\n",
            "Epoch 20/50\n",
            "100/100 [==============================] - 104s 1s/step - loss: 0.1340 - acc: 0.9609 - val_loss: 0.6291 - val_acc: 0.8266\n",
            "Epoch 21/50\n",
            "100/100 [==============================] - 104s 1s/step - loss: 0.1345 - acc: 0.9603 - val_loss: 0.6037 - val_acc: 0.8278\n",
            "Epoch 22/50\n",
            "100/100 [==============================] - 103s 1s/step - loss: 0.1285 - acc: 0.9606 - val_loss: 0.6253 - val_acc: 0.8206\n",
            "Epoch 23/50\n",
            "100/100 [==============================] - 103s 1s/step - loss: 0.1248 - acc: 0.9662 - val_loss: 0.6246 - val_acc: 0.8319\n",
            "Epoch 24/50\n",
            "100/100 [==============================] - 104s 1s/step - loss: 0.1119 - acc: 0.9703 - val_loss: 0.6330 - val_acc: 0.8256\n",
            "Epoch 25/50\n",
            "100/100 [==============================] - 103s 1s/step - loss: 0.1180 - acc: 0.9639 - val_loss: 0.6549 - val_acc: 0.8213\n",
            "Epoch 26/50\n",
            "100/100 [==============================] - 103s 1s/step - loss: 0.0980 - acc: 0.9705 - val_loss: 0.6483 - val_acc: 0.8263\n",
            "Epoch 27/50\n",
            "100/100 [==============================] - 104s 1s/step - loss: 0.0936 - acc: 0.9747 - val_loss: 0.6123 - val_acc: 0.8338\n",
            "Epoch 28/50\n",
            "100/100 [==============================] - 103s 1s/step - loss: 0.0911 - acc: 0.9750 - val_loss: 0.6225 - val_acc: 0.8256\n",
            "Epoch 29/50\n",
            "100/100 [==============================] - 103s 1s/step - loss: 0.0903 - acc: 0.9745 - val_loss: 0.6312 - val_acc: 0.8250\n",
            "Epoch 30/50\n",
            "100/100 [==============================] - 104s 1s/step - loss: 0.0794 - acc: 0.9783 - val_loss: 0.6319 - val_acc: 0.8350\n",
            "Epoch 31/50\n",
            "100/100 [==============================] - 103s 1s/step - loss: 0.0824 - acc: 0.9758 - val_loss: 0.6351 - val_acc: 0.8288\n",
            "Epoch 32/50\n",
            "100/100 [==============================] - 103s 1s/step - loss: 0.0830 - acc: 0.9772 - val_loss: 0.6139 - val_acc: 0.8334\n",
            "Epoch 33/50\n",
            "100/100 [==============================] - 103s 1s/step - loss: 0.0809 - acc: 0.9756 - val_loss: 0.6260 - val_acc: 0.8378\n",
            "Epoch 34/50\n",
            "100/100 [==============================] - 104s 1s/step - loss: 0.0774 - acc: 0.9777 - val_loss: 0.5975 - val_acc: 0.8347\n",
            "Epoch 35/50\n",
            "100/100 [==============================] - 103s 1s/step - loss: 0.0751 - acc: 0.9781 - val_loss: 0.5878 - val_acc: 0.8431\n",
            "Epoch 36/50\n",
            "100/100 [==============================] - 104s 1s/step - loss: 0.0788 - acc: 0.9761 - val_loss: 0.6055 - val_acc: 0.8338\n",
            "Epoch 37/50\n",
            "100/100 [==============================] - 103s 1s/step - loss: 0.0724 - acc: 0.9794 - val_loss: 0.6437 - val_acc: 0.8356\n",
            "Epoch 38/50\n",
            "100/100 [==============================] - 103s 1s/step - loss: 0.0682 - acc: 0.9797 - val_loss: 0.6278 - val_acc: 0.8284\n",
            "Epoch 39/50\n",
            "100/100 [==============================] - 104s 1s/step - loss: 0.0714 - acc: 0.9797 - val_loss: 0.6569 - val_acc: 0.8309\n",
            "Epoch 40/50\n",
            "100/100 [==============================] - 103s 1s/step - loss: 0.0685 - acc: 0.9802 - val_loss: 0.6103 - val_acc: 0.8409\n"
          ],
          "name": "stdout"
        }
      ]
    },
    {
      "cell_type": "code",
      "metadata": {
        "colab": {
          "base_uri": "https://localhost:8080/",
          "height": 298
        },
        "id": "QYePk8RV-Mw5",
        "outputId": "291f04a8-9771-4135-eb1a-2d2c1cfd1f1d"
      },
      "source": [
        "import matplotlib.pyplot as plt\n",
        "acc = history.history['acc']\n",
        "val_acc = history.history['val_acc']\n",
        "loss = history.history['loss']\n",
        "val_loss = history.history['val_loss']\n",
        "\n",
        "epochs = range(len(acc))\n",
        "\n",
        "plt.plot(epochs, acc, 'r', label='Training accuracy')\n",
        "plt.plot(epochs, val_acc, 'b', label='Validation accuracy')\n",
        "plt.title('Training and validation accuracy')\n",
        "plt.legend(loc=0)\n",
        "plt.figure()\n",
        "\n",
        "\n",
        "plt.show()"
      ],
      "execution_count": null,
      "outputs": [
        {
          "output_type": "display_data",
          "data": {
            "image/png": "[encoded data removed]",
            "text/plain": [
              "<Figure size 432x288 with 1 Axes>"
            ]
          },
          "metadata": {
            "tags": [],
            "needs_background": "light"
          }
        },
        {
          "output_type": "display_data",
          "data": {
            "text/plain": [
              "<Figure size 432x288 with 0 Axes>"
            ]
          },
          "metadata": {
            "tags": []
          }
        }
      ]
    },
    {
      "cell_type": "code",
      "metadata": {
        "colab": {
          "base_uri": "https://localhost:8080/",
          "height": 315
        },
        "id": "oZMMO1St-TwH",
        "outputId": "ad49d059-5bb0-4480-bc29-13701a426185"
      },
      "source": [
        "plt.plot(epochs, loss, 'r', label='Training loss')\n",
        "plt.plot(epochs, val_loss, 'b', label='Validation loss')\n",
        "plt.title('Training and validation loss')\n",
        "plt.legend(loc=0)\n",
        "plt.figure()"
      ],
      "execution_count": null,
      "outputs": [
        {
          "output_type": "execute_result",
          "data": {
            "text/plain": [
              "<Figure size 432x288 with 0 Axes>"
            ]
          },
          "metadata": {
            "tags": []
          },
          "execution_count": 98
        },
        {
          "output_type": "display_data",
          "data": {
            "image/png": "[encoded data removed]",
            "text/plain": [
              "<Figure size 432x288 with 1 Axes>"
            ]
          },
          "metadata": {
            "tags": [],
            "needs_background": "light"
          }
        },
        {
          "output_type": "display_data",
          "data": {
            "text/plain": [
              "<Figure size 432x288 with 0 Axes>"
            ]
          },
          "metadata": {
            "tags": []
          }
        }
      ]
    },
    {
      "cell_type": "code",
      "metadata": {
        "id": "WMIxcBWUARlD"
      },
      "source": [
        "MODEL_NAME = '/content/asl_{}.h5'.format(\"inceptionv3\")\n",
        "model.save(MODEL_NAME)"
      ],
      "execution_count": null,
      "outputs": []
    },
    {
      "cell_type": "markdown",
      "metadata": {
        "id": "u6eN6bjEuvRX"
      },
      "source": [
        "## VGG16"
      ]
    },
    {
      "cell_type": "code",
      "metadata": {
        "id": "evWDSZuhAkow"
      },
      "source": [
        "vgg16_model = VGG16(\n",
        "    input_shape = (IMAGE_SIZE, IMAGE_SIZE, 3), \n",
        "    include_top = False, \n",
        "    weights = 'imagenet'\n",
        ")\n",
        "\n",
        "for layer in vgg16_model.layers[:15]:\n",
        "    layer.trainable = False\n",
        "for layer in vgg16_model.layers[15:]:\n",
        "    layer.trainable = True"
      ],
      "execution_count": null,
      "outputs": []
    },
    {
      "cell_type": "code",
      "metadata": {
        "id": "_p8QXZEMzAao"
      },
      "source": [
        "vgg_output = vgg16_model.output"
      ],
      "execution_count": null,
      "outputs": []
    },
    {
      "cell_type": "code",
      "metadata": {
        "id": "iB74sawJ_SDZ"
      },
      "source": [
        "x1 = layers.GlobalAveragePooling2D()(vgg_output)\n",
        "x1 = layers.Dense(1024, activation='relu')(x1)\n",
        "x1 = layers.Dropout(0.2)(x1)                  \n",
        "x1 = layers.Dense(39, activation='softmax')(x1)           \n",
        "\n",
        "model1 = Model(vgg16_model.input, x1) \n",
        "\n",
        "model1.compile(\n",
        "    optimizer=SGD(lr=0.001, momentum=0.9),\n",
        "    loss='categorical_crossentropy',\n",
        "    metrics=['acc']\n",
        ")"
      ],
      "execution_count": null,
      "outputs": []
    },
    {
      "cell_type": "code",
      "metadata": {
        "colab": {
          "base_uri": "https://localhost:8080/"
        },
        "id": "HX3eis2a_l0R",
        "outputId": "81ee7f3d-62cb-42f8-8c2d-23dc80474570"
      },
      "source": [
        "callback = tf.keras.callbacks.EarlyStopping(monitor = 'val_acc', patience = 5)\n",
        "\n",
        "history = model1.fit_generator(\n",
        "    train_generator,\n",
        "    validation_data=validation_generator,\n",
        "    steps_per_epoch = 100,\n",
        "    validation_steps=50,\n",
        "    epochs=50, verbose =1,\n",
        "    callbacks=[callback])"
      ],
      "execution_count": null,
      "outputs": [
        {
          "output_type": "stream",
          "text": [
            "Epoch 1/50\n",
            "100/100 [==============================] - 110s 1s/step - loss: 3.3827 - acc: 0.0856 - val_loss: 3.0503 - val_acc: 0.1816\n",
            "Epoch 2/50\n",
            "100/100 [==============================] - 109s 1s/step - loss: 2.1828 - acc: 0.4155 - val_loss: 1.3571 - val_acc: 0.6781\n",
            "Epoch 3/50\n",
            "100/100 [==============================] - 109s 1s/step - loss: 0.9060 - acc: 0.7447 - val_loss: 0.7418 - val_acc: 0.7834\n",
            "Epoch 4/50\n",
            "100/100 [==============================] - 110s 1s/step - loss: 0.5130 - acc: 0.8622 - val_loss: 0.4799 - val_acc: 0.8700\n",
            "Epoch 5/50\n",
            "100/100 [==============================] - 109s 1s/step - loss: 0.3374 - acc: 0.9106 - val_loss: 0.4112 - val_acc: 0.8850\n",
            "Epoch 6/50\n",
            "100/100 [==============================] - 109s 1s/step - loss: 0.2704 - acc: 0.9253 - val_loss: 0.3588 - val_acc: 0.8859\n",
            "Epoch 7/50\n",
            "100/100 [==============================] - 109s 1s/step - loss: 0.2310 - acc: 0.9336 - val_loss: 0.2966 - val_acc: 0.9050\n",
            "Epoch 8/50\n",
            "100/100 [==============================] - 109s 1s/step - loss: 0.1889 - acc: 0.9505 - val_loss: 0.2583 - val_acc: 0.9166\n",
            "Epoch 9/50\n",
            "100/100 [==============================] - 112s 1s/step - loss: 0.1752 - acc: 0.9493 - val_loss: 0.2819 - val_acc: 0.9081\n",
            "Epoch 10/50\n",
            "100/100 [==============================] - 110s 1s/step - loss: 0.1599 - acc: 0.9534 - val_loss: 0.2797 - val_acc: 0.9084\n",
            "Epoch 11/50\n",
            "100/100 [==============================] - 111s 1s/step - loss: 0.1373 - acc: 0.9615 - val_loss: 0.2357 - val_acc: 0.9216\n",
            "Epoch 12/50\n",
            "100/100 [==============================] - 111s 1s/step - loss: 0.1117 - acc: 0.9692 - val_loss: 0.3082 - val_acc: 0.9025\n",
            "Epoch 13/50\n",
            "100/100 [==============================] - 110s 1s/step - loss: 0.1075 - acc: 0.9691 - val_loss: 0.2075 - val_acc: 0.9269\n",
            "Epoch 14/50\n",
            "100/100 [==============================] - 110s 1s/step - loss: 0.1008 - acc: 0.9716 - val_loss: 0.2292 - val_acc: 0.9172\n",
            "Epoch 15/50\n",
            "100/100 [==============================] - 110s 1s/step - loss: 0.0903 - acc: 0.9739 - val_loss: 0.2241 - val_acc: 0.9269\n",
            "Epoch 16/50\n",
            "100/100 [==============================] - 109s 1s/step - loss: 0.0937 - acc: 0.9727 - val_loss: 0.2153 - val_acc: 0.9300\n",
            "Epoch 17/50\n",
            "100/100 [==============================] - 109s 1s/step - loss: 0.0805 - acc: 0.9777 - val_loss: 0.2130 - val_acc: 0.9269\n",
            "Epoch 18/50\n",
            "100/100 [==============================] - 109s 1s/step - loss: 0.0735 - acc: 0.9792 - val_loss: 0.2251 - val_acc: 0.9222\n",
            "Epoch 19/50\n",
            "100/100 [==============================] - 109s 1s/step - loss: 0.0728 - acc: 0.9775 - val_loss: 0.2079 - val_acc: 0.9297\n",
            "Epoch 20/50\n",
            "100/100 [==============================] - 109s 1s/step - loss: 0.0635 - acc: 0.9841 - val_loss: 0.2006 - val_acc: 0.9269\n",
            "Epoch 21/50\n",
            "100/100 [==============================] - 109s 1s/step - loss: 0.0586 - acc: 0.9828 - val_loss: 0.1795 - val_acc: 0.9356\n",
            "Epoch 22/50\n",
            "100/100 [==============================] - 109s 1s/step - loss: 0.0616 - acc: 0.9820 - val_loss: 0.1858 - val_acc: 0.9322\n",
            "Epoch 23/50\n",
            "100/100 [==============================] - 109s 1s/step - loss: 0.0497 - acc: 0.9869 - val_loss: 0.1645 - val_acc: 0.9422\n",
            "Epoch 24/50\n",
            "100/100 [==============================] - 109s 1s/step - loss: 0.0482 - acc: 0.9859 - val_loss: 0.1810 - val_acc: 0.9388\n",
            "Epoch 25/50\n",
            "100/100 [==============================] - 110s 1s/step - loss: 0.0519 - acc: 0.9853 - val_loss: 0.1426 - val_acc: 0.9503\n",
            "Epoch 26/50\n",
            "100/100 [==============================] - 110s 1s/step - loss: 0.0445 - acc: 0.9873 - val_loss: 0.2217 - val_acc: 0.9212\n",
            "Epoch 27/50\n",
            "100/100 [==============================] - 109s 1s/step - loss: 0.0494 - acc: 0.9856 - val_loss: 0.1628 - val_acc: 0.9406\n",
            "Epoch 28/50\n",
            "100/100 [==============================] - 109s 1s/step - loss: 0.0457 - acc: 0.9873 - val_loss: 0.1709 - val_acc: 0.9406\n",
            "Epoch 29/50\n",
            "100/100 [==============================] - 110s 1s/step - loss: 0.0462 - acc: 0.9852 - val_loss: 0.1808 - val_acc: 0.9350\n",
            "Epoch 30/50\n",
            "100/100 [==============================] - 109s 1s/step - loss: 0.0460 - acc: 0.9862 - val_loss: 0.1758 - val_acc: 0.9391\n"
          ],
          "name": "stdout"
        }
      ]
    },
    {
      "cell_type": "code",
      "metadata": {
        "colab": {
          "base_uri": "https://localhost:8080/",
          "height": 298
        },
        "id": "oV6si-DPcpVl",
        "outputId": "ef6d576b-e26c-4788-8bed-5fdf72c015f1"
      },
      "source": [
        "acc = history.history['acc']\n",
        "val_acc = history.history['val_acc']\n",
        "loss = history.history['loss']\n",
        "val_loss = history.history['val_loss']\n",
        "\n",
        "epochs = range(len(acc))\n",
        "\n",
        "plt.plot(epochs, acc, 'r', label='Training accuracy')\n",
        "plt.plot(epochs, val_acc, 'b', label='Validation accuracy')\n",
        "plt.title('Training and validation accuracy')\n",
        "plt.legend(loc=0)\n",
        "plt.figure()\n",
        "\n",
        "\n",
        "plt.show()"
      ],
      "execution_count": null,
      "outputs": [
        {
          "output_type": "display_data",
          "data": {
            "image/png": "[encoded data removed]",
            "text/plain": [
              "<Figure size 432x288 with 1 Axes>"
            ]
          },
          "metadata": {
            "tags": [],
            "needs_background": "light"
          }
        },
        {
          "output_type": "display_data",
          "data": {
            "text/plain": [
              "<Figure size 432x288 with 0 Axes>"
            ]
          },
          "metadata": {
            "tags": []
          }
        }
      ]
    },
    {
      "cell_type": "code",
      "metadata": {
        "colab": {
          "base_uri": "https://localhost:8080/",
          "height": 315
        },
        "id": "7Yv0QRXttzxR",
        "outputId": "43b4800c-4f2d-4b23-8d5b-8577c9c0ebb8"
      },
      "source": [
        "plt.plot(epochs, loss, 'r', label='Training loss')\n",
        "plt.plot(epochs, val_loss, 'b', label='Validation loss')\n",
        "plt.title('Training and validation loss')\n",
        "plt.legend(loc=0)\n",
        "plt.figure()"
      ],
      "execution_count": null,
      "outputs": [
        {
          "output_type": "execute_result",
          "data": {
            "text/plain": [
              "<Figure size 432x288 with 0 Axes>"
            ]
          },
          "metadata": {
            "tags": []
          },
          "execution_count": 92
        },
        {
          "output_type": "display_data",
          "data": {
            "image/png": "[encoded data removed]",
            "text/plain": [
              "<Figure size 432x288 with 1 Axes>"
            ]
          },
          "metadata": {
            "tags": [],
            "needs_background": "light"
          }
        },
        {
          "output_type": "display_data",
          "data": {
            "text/plain": [
              "<Figure size 432x288 with 0 Axes>"
            ]
          },
          "metadata": {
            "tags": []
          }
        }
      ]
    },
    {
      "cell_type": "code",
      "metadata": {
        "id": "ECkiwSZ4t3IF"
      },
      "source": [
        "MODEL_NAME = '/content/asl_{}.h5'.format(\"vgg16\")\n",
        "model1.save(MODEL_NAME)"
      ],
      "execution_count": null,
      "outputs": []
    },
    {
      "cell_type": "markdown",
      "metadata": {
        "id": "kXFJ3sd_u0hw"
      },
      "source": [
        "## ResNet50"
      ]
    },
    {
      "cell_type": "code",
      "metadata": {
        "id": "cpWHQCqL-nTS"
      },
      "source": [
        "resnet50_model = ResNet50(\n",
        "    input_shape = (IMAGE_SIZE, IMAGE_SIZE, 3), \n",
        "    include_top = False, \n",
        "    weights = 'imagenet'\n",
        ")\n",
        "\n",
        "for layer in resnet50_model.layers[:-32]:\n",
        "    layer.trainable = False\n",
        "for layer in resnet50_model.layers[-32:]:\n",
        "    layer.trainable = True"
      ],
      "execution_count": null,
      "outputs": []
    },
    {
      "cell_type": "code",
      "metadata": {
        "id": "0yv6LnQy-398"
      },
      "source": [
        "resnet50_output = resnet50_model.output"
      ],
      "execution_count": null,
      "outputs": []
    },
    {
      "cell_type": "code",
      "metadata": {
        "id": "pq66nNYS-7Hg"
      },
      "source": [
        "x2 = layers.GlobalAveragePooling2D()(resnet50_output)\n",
        "x2 = layers.Dense(1024, activation='relu')(x2)\n",
        "x2 = layers.Dropout(0.2)(x2)                  \n",
        "x2 = layers.Dense(39, activation='softmax')(x2)           \n",
        "\n",
        "model2 = Model(resnet50_model.input, x2) \n",
        "\n",
        "model2.compile(\n",
        "    optimizer=SGD(lr=0.001, momentum=0.9),\n",
        "    loss='categorical_crossentropy',\n",
        "    metrics=['acc']\n",
        ")"
      ],
      "execution_count": null,
      "outputs": []
    },
    {
      "cell_type": "code",
      "metadata": {
        "colab": {
          "base_uri": "https://localhost:8080/"
        },
        "id": "xt3iFs8cAN9Q",
        "outputId": "ac7feb4a-6ff2-463c-b9c2-4aeaddbdcbce"
      },
      "source": [
        "callback = tf.keras.callbacks.EarlyStopping(monitor = 'val_acc', patience = 5)\n",
        "\n",
        "history = model2.fit_generator(\n",
        "    train_generator,\n",
        "    validation_data=validation_generator,\n",
        "    steps_per_epoch = 100,\n",
        "    validation_steps=50,\n",
        "    epochs=50, verbose =1,\n",
        "    callbacks=[callback])"
      ],
      "execution_count": null,
      "outputs": [
        {
          "output_type": "stream",
          "text": [
            "Epoch 1/50\n",
            "100/100 [==============================] - 111s 1s/step - loss: 3.1196 - acc: 0.1730 - val_loss: 3.1028 - val_acc: 0.1637\n",
            "Epoch 2/50\n",
            "100/100 [==============================] - 110s 1s/step - loss: 2.0473 - acc: 0.4320 - val_loss: 2.3908 - val_acc: 0.3063\n",
            "Epoch 3/50\n",
            "100/100 [==============================] - 110s 1s/step - loss: 1.4637 - acc: 0.5828 - val_loss: 2.0236 - val_acc: 0.3894\n",
            "Epoch 4/50\n",
            "100/100 [==============================] - 110s 1s/step - loss: 1.1338 - acc: 0.6655 - val_loss: 1.8139 - val_acc: 0.4541\n",
            "Epoch 5/50\n",
            "100/100 [==============================] - 110s 1s/step - loss: 0.9547 - acc: 0.7153 - val_loss: 1.6345 - val_acc: 0.5016\n",
            "Epoch 6/50\n",
            "100/100 [==============================] - 110s 1s/step - loss: 0.7808 - acc: 0.7583 - val_loss: 1.5239 - val_acc: 0.5384\n",
            "Epoch 7/50\n",
            "100/100 [==============================] - 110s 1s/step - loss: 0.6890 - acc: 0.7903 - val_loss: 1.4721 - val_acc: 0.5541\n",
            "Epoch 8/50\n",
            "100/100 [==============================] - 110s 1s/step - loss: 0.6146 - acc: 0.8120 - val_loss: 1.4464 - val_acc: 0.5628\n",
            "Epoch 9/50\n",
            "100/100 [==============================] - 109s 1s/step - loss: 0.5353 - acc: 0.8294 - val_loss: 1.3761 - val_acc: 0.5769\n",
            "Epoch 10/50\n",
            "100/100 [==============================] - 109s 1s/step - loss: 0.4899 - acc: 0.8484 - val_loss: 1.2853 - val_acc: 0.6019\n",
            "Epoch 11/50\n",
            "100/100 [==============================] - 109s 1s/step - loss: 0.4535 - acc: 0.8587 - val_loss: 1.2773 - val_acc: 0.6284\n",
            "Epoch 12/50\n",
            "100/100 [==============================] - 109s 1s/step - loss: 0.4157 - acc: 0.8697 - val_loss: 1.2796 - val_acc: 0.6272\n",
            "Epoch 13/50\n",
            "100/100 [==============================] - 109s 1s/step - loss: 0.3957 - acc: 0.8722 - val_loss: 1.1897 - val_acc: 0.6369\n",
            "Epoch 14/50\n",
            "100/100 [==============================] - 110s 1s/step - loss: 0.3386 - acc: 0.8938 - val_loss: 1.2735 - val_acc: 0.6328\n",
            "Epoch 15/50\n",
            "100/100 [==============================] - 110s 1s/step - loss: 0.3312 - acc: 0.8911 - val_loss: 1.2820 - val_acc: 0.6463\n",
            "Epoch 16/50\n",
            "100/100 [==============================] - 110s 1s/step - loss: 0.3061 - acc: 0.9034 - val_loss: 1.2438 - val_acc: 0.6450\n",
            "Epoch 17/50\n",
            "100/100 [==============================] - 109s 1s/step - loss: 0.3030 - acc: 0.9034 - val_loss: 1.2101 - val_acc: 0.6572\n",
            "Epoch 18/50\n",
            "100/100 [==============================] - 109s 1s/step - loss: 0.2703 - acc: 0.9192 - val_loss: 1.1500 - val_acc: 0.6859\n",
            "Epoch 19/50\n",
            "100/100 [==============================] - 109s 1s/step - loss: 0.2578 - acc: 0.9159 - val_loss: 1.3366 - val_acc: 0.6463\n",
            "Epoch 20/50\n",
            "100/100 [==============================] - 109s 1s/step - loss: 0.2592 - acc: 0.9165 - val_loss: 1.1828 - val_acc: 0.6781\n",
            "Epoch 21/50\n",
            "100/100 [==============================] - 109s 1s/step - loss: 0.2439 - acc: 0.9206 - val_loss: 1.1825 - val_acc: 0.6709\n",
            "Epoch 22/50\n",
            "100/100 [==============================] - 109s 1s/step - loss: 0.2300 - acc: 0.9236 - val_loss: 1.1564 - val_acc: 0.6791\n",
            "Epoch 23/50\n",
            "100/100 [==============================] - 109s 1s/step - loss: 0.2178 - acc: 0.9278 - val_loss: 1.1146 - val_acc: 0.6988\n",
            "Epoch 24/50\n",
            "100/100 [==============================] - 109s 1s/step - loss: 0.2116 - acc: 0.9289 - val_loss: 1.1519 - val_acc: 0.6859\n",
            "Epoch 25/50\n",
            "100/100 [==============================] - 108s 1s/step - loss: 0.2162 - acc: 0.9270 - val_loss: 1.1232 - val_acc: 0.6872\n",
            "Epoch 26/50\n",
            "100/100 [==============================] - 109s 1s/step - loss: 0.1873 - acc: 0.9356 - val_loss: 1.1039 - val_acc: 0.6975\n",
            "Epoch 27/50\n",
            "100/100 [==============================] - 109s 1s/step - loss: 0.1939 - acc: 0.9386 - val_loss: 1.2348 - val_acc: 0.6862\n",
            "Epoch 28/50\n",
            "100/100 [==============================] - 109s 1s/step - loss: 0.1818 - acc: 0.9480 - val_loss: 1.3071 - val_acc: 0.6766\n"
          ],
          "name": "stdout"
        }
      ]
    },
    {
      "cell_type": "code",
      "metadata": {
        "colab": {
          "base_uri": "https://localhost:8080/",
          "height": 298
        },
        "id": "JjG_YJgWCS8u",
        "outputId": "b42da814-80a0-420a-ac72-7a199129a273"
      },
      "source": [
        "acc = history.history['acc']\n",
        "val_acc = history.history['val_acc']\n",
        "loss = history.history['loss']\n",
        "val_loss = history.history['val_loss']\n",
        "\n",
        "epochs = range(len(acc))\n",
        "\n",
        "plt.plot(epochs, acc, 'r', label='Training accuracy')\n",
        "plt.plot(epochs, val_acc, 'b', label='Validation accuracy')\n",
        "plt.title('Training and validation accuracy')\n",
        "plt.legend(loc=0)\n",
        "plt.figure()\n",
        "\n",
        "\n",
        "plt.show()"
      ],
      "execution_count": null,
      "outputs": [
        {
          "output_type": "display_data",
          "data": {
            "image/png": "[encoded data removed]",
            "text/plain": [
              "<Figure size 432x288 with 1 Axes>"
            ]
          },
          "metadata": {
            "tags": [],
            "needs_background": "light"
          }
        },
        {
          "output_type": "display_data",
          "data": {
            "text/plain": [
              "<Figure size 432x288 with 0 Axes>"
            ]
          },
          "metadata": {
            "tags": []
          }
        }
      ]
    },
    {
      "cell_type": "code",
      "metadata": {
        "colab": {
          "base_uri": "https://localhost:8080/",
          "height": 315
        },
        "id": "PjE9GSjJObbv",
        "outputId": "e7efd269-9fa0-4c27-ce73-9b2e52f8c5ab"
      },
      "source": [
        "plt.plot(epochs, loss, 'r', label='Training loss')\n",
        "plt.plot(epochs, val_loss, 'b', label='Validation loss')\n",
        "plt.title('Training and validation loss')\n",
        "plt.legend(loc=0)\n",
        "plt.figure()"
      ],
      "execution_count": null,
      "outputs": [
        {
          "output_type": "execute_result",
          "data": {
            "text/plain": [
              "<Figure size 432x288 with 0 Axes>"
            ]
          },
          "metadata": {
            "tags": []
          },
          "execution_count": 124
        },
        {
          "output_type": "display_data",
          "data": {
            "image/png": "[encoded data removed]",
            "text/plain": [
              "<Figure size 432x288 with 1 Axes>"
            ]
          },
          "metadata": {
            "tags": [],
            "needs_background": "light"
          }
        },
        {
          "output_type": "display_data",
          "data": {
            "text/plain": [
              "<Figure size 432x288 with 0 Axes>"
            ]
          },
          "metadata": {
            "tags": []
          }
        }
      ]
    },
    {
      "cell_type": "code",
      "metadata": {
        "id": "hwfQYkKbOiRs"
      },
      "source": [
        "MODEL_NAME = '/content/asl_{}.h5'.format(\"resnet50\")\n",
        "model2.save(MODEL_NAME)"
      ],
      "execution_count": null,
      "outputs": []
    }
  ]
}